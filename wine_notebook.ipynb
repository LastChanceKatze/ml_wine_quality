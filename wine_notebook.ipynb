{
 "cells": [
  {
   "cell_type": "markdown",
   "metadata": {},
   "source": [
    "# **Nadgledano učenje - Klasifikacija kvaliteta belog vina**\n",
    "**Studenti**: \n",
    " - Natalija Stamenković, 1258\n",
    " - Milica Todorović, 1256\n",
    "\n",
    "**Tema**: Određivanje kvaliteta belog vina na osnovu fizičko-hemijskih karakteristika. Korišćeni skup podataka može se naći na linku: https://archive.ics.uci.edu/ml/datasets/wine+quality.\n"
   ]
  },
  {
   "cell_type": "markdown",
   "metadata": {},
   "source": [
    "### ***Deskriptivna analiza podataka***\n",
    "#### *Importovanje paketa*"
   ]
  },
  {
   "cell_type": "code",
   "execution_count": 1,
   "metadata": {},
   "outputs": [],
   "source": [
    "import pandas as pd\n",
    "import numpy as np\n",
    "import matplotlib.pyplot as plt\n",
    "import seaborn as sns\n",
    "from sklearn.preprocessing import StandardScaler, LabelEncoder\n",
    "from sklearn.model_selection import train_test_split\n",
    "from sklearn.ensemble import RandomForestClassifier\n",
    "from sklearn.neighbors import KNeighborsClassifier\n",
    "from sklearn.ensemble import GradientBoostingClassifier\n",
    "from sklearn import svm\n",
    "from sklearn.model_selection import GridSearchCV\n",
    "import sklearn.metrics as metrics\n",
    "from sklearn.model_selection import cross_val_score\n",
    "from imblearn.over_sampling import SMOTE\n",
    "from sklearn.feature_selection import RFECV\n",
    "from sklearn.decomposition import PCA\n",
    "%matplotlib inline"
   ]
  },
  {
   "cell_type": "markdown",
   "metadata": {},
   "source": [
    "#### *Učitavanje skupa podataka*\n",
    "U tabeli se mogu videti vrednosti atributa datog skupa podataka. Svi atributi su numeričkog kontinualnog tipa. Klasifikaciju je potrebno izvršiti na osnovu poslednje kolone (*quality*), pri čemu zavisna promenljiva uzima celobrojne vrednosti iz intervala [0,9]."
   ]
  },
  {
   "cell_type": "code",
   "execution_count": 46,
   "metadata": {},
   "outputs": [
    {
     "data": {
      "text/html": [
       "<div>\n",
       "<style scoped>\n",
       "    .dataframe tbody tr th:only-of-type {\n",
       "        vertical-align: middle;\n",
       "    }\n",
       "\n",
       "    .dataframe tbody tr th {\n",
       "        vertical-align: top;\n",
       "    }\n",
       "\n",
       "    .dataframe thead th {\n",
       "        text-align: right;\n",
       "    }\n",
       "</style>\n",
       "<table border=\"1\" class=\"dataframe\">\n",
       "  <thead>\n",
       "    <tr style=\"text-align: right;\">\n",
       "      <th></th>\n",
       "      <th>fixed acidity</th>\n",
       "      <th>volatile acidity</th>\n",
       "      <th>citric acid</th>\n",
       "      <th>residual sugar</th>\n",
       "      <th>chlorides</th>\n",
       "      <th>free sulfur dioxide</th>\n",
       "      <th>total sulfur dioxide</th>\n",
       "      <th>density</th>\n",
       "      <th>pH</th>\n",
       "      <th>sulphates</th>\n",
       "      <th>alcohol</th>\n",
       "      <th>quality</th>\n",
       "    </tr>\n",
       "  </thead>\n",
       "  <tbody>\n",
       "    <tr>\n",
       "      <th>0</th>\n",
       "      <td>7.0</td>\n",
       "      <td>0.27</td>\n",
       "      <td>0.36</td>\n",
       "      <td>20.7</td>\n",
       "      <td>0.045</td>\n",
       "      <td>45.0</td>\n",
       "      <td>170.0</td>\n",
       "      <td>1.001</td>\n",
       "      <td>3.0</td>\n",
       "      <td>0.45</td>\n",
       "      <td>8.8</td>\n",
       "      <td>6</td>\n",
       "    </tr>\n",
       "    <tr>\n",
       "      <th>1</th>\n",
       "      <td>6.3</td>\n",
       "      <td>0.30</td>\n",
       "      <td>0.34</td>\n",
       "      <td>1.6</td>\n",
       "      <td>0.049</td>\n",
       "      <td>14.0</td>\n",
       "      <td>132.0</td>\n",
       "      <td>0.994</td>\n",
       "      <td>3.3</td>\n",
       "      <td>0.49</td>\n",
       "      <td>9.5</td>\n",
       "      <td>6</td>\n",
       "    </tr>\n",
       "  </tbody>\n",
       "</table>\n",
       "</div>"
      ],
      "text/plain": [
       "   fixed acidity  volatile acidity  citric acid  residual sugar  chlorides  \\\n",
       "0            7.0              0.27         0.36            20.7      0.045   \n",
       "1            6.3              0.30         0.34             1.6      0.049   \n",
       "\n",
       "   free sulfur dioxide  total sulfur dioxide  density   pH  sulphates  \\\n",
       "0                 45.0                 170.0    1.001  3.0       0.45   \n",
       "1                 14.0                 132.0    0.994  3.3       0.49   \n",
       "\n",
       "   alcohol  quality  \n",
       "0      8.8        6  \n",
       "1      9.5        6  "
      ]
     },
     "execution_count": 46,
     "metadata": {},
     "output_type": "execute_result"
    }
   ],
   "source": [
    "data = pd.read_csv(\"./dataset/winequality-white.csv\", delimiter=';')\n",
    "data.head(2)"
   ]
  },
  {
   "cell_type": "markdown",
   "metadata": {},
   "source": [
    "#### *Deskripcija atributa*\n",
    "Sledeća tabela prikazuje statističke informacije o atributima (srednju vrednost, standardnu devijaciju, min, max itd.) Za dodatne informacije o atributima prikazana je vrednost medijana svakog atributa."
   ]
  },
  {
   "cell_type": "code",
   "execution_count": 3,
   "metadata": {},
   "outputs": [
    {
     "name": "stdout",
     "output_type": "stream",
     "text": [
      "Describe data:\n"
     ]
    },
    {
     "data": {
      "text/html": [
       "<div>\n",
       "<style scoped>\n",
       "    .dataframe tbody tr th:only-of-type {\n",
       "        vertical-align: middle;\n",
       "    }\n",
       "\n",
       "    .dataframe tbody tr th {\n",
       "        vertical-align: top;\n",
       "    }\n",
       "\n",
       "    .dataframe thead th {\n",
       "        text-align: right;\n",
       "    }\n",
       "</style>\n",
       "<table border=\"1\" class=\"dataframe\">\n",
       "  <thead>\n",
       "    <tr style=\"text-align: right;\">\n",
       "      <th></th>\n",
       "      <th>fixed acidity</th>\n",
       "      <th>volatile acidity</th>\n",
       "      <th>citric acid</th>\n",
       "      <th>residual sugar</th>\n",
       "      <th>chlorides</th>\n",
       "      <th>free sulfur dioxide</th>\n",
       "      <th>total sulfur dioxide</th>\n",
       "      <th>density</th>\n",
       "      <th>pH</th>\n",
       "      <th>sulphates</th>\n",
       "      <th>alcohol</th>\n",
       "      <th>quality</th>\n",
       "    </tr>\n",
       "  </thead>\n",
       "  <tbody>\n",
       "    <tr>\n",
       "      <th>count</th>\n",
       "      <td>4898.000000</td>\n",
       "      <td>4898.000000</td>\n",
       "      <td>4898.000000</td>\n",
       "      <td>4898.000000</td>\n",
       "      <td>4898.000000</td>\n",
       "      <td>4898.000000</td>\n",
       "      <td>4898.000000</td>\n",
       "      <td>4898.000000</td>\n",
       "      <td>4898.000000</td>\n",
       "      <td>4898.000000</td>\n",
       "      <td>4898.000000</td>\n",
       "      <td>4898.000000</td>\n",
       "    </tr>\n",
       "    <tr>\n",
       "      <th>mean</th>\n",
       "      <td>6.854788</td>\n",
       "      <td>0.278241</td>\n",
       "      <td>0.334192</td>\n",
       "      <td>6.391415</td>\n",
       "      <td>0.045772</td>\n",
       "      <td>35.308085</td>\n",
       "      <td>138.360657</td>\n",
       "      <td>0.994027</td>\n",
       "      <td>3.188267</td>\n",
       "      <td>0.489847</td>\n",
       "      <td>10.514267</td>\n",
       "      <td>5.877909</td>\n",
       "    </tr>\n",
       "    <tr>\n",
       "      <th>std</th>\n",
       "      <td>0.843868</td>\n",
       "      <td>0.100795</td>\n",
       "      <td>0.121020</td>\n",
       "      <td>5.072058</td>\n",
       "      <td>0.021848</td>\n",
       "      <td>17.007137</td>\n",
       "      <td>42.498065</td>\n",
       "      <td>0.002991</td>\n",
       "      <td>0.151001</td>\n",
       "      <td>0.114126</td>\n",
       "      <td>1.230621</td>\n",
       "      <td>0.885639</td>\n",
       "    </tr>\n",
       "    <tr>\n",
       "      <th>min</th>\n",
       "      <td>3.800000</td>\n",
       "      <td>0.080000</td>\n",
       "      <td>0.000000</td>\n",
       "      <td>0.600000</td>\n",
       "      <td>0.009000</td>\n",
       "      <td>2.000000</td>\n",
       "      <td>9.000000</td>\n",
       "      <td>0.987110</td>\n",
       "      <td>2.720000</td>\n",
       "      <td>0.220000</td>\n",
       "      <td>8.000000</td>\n",
       "      <td>3.000000</td>\n",
       "    </tr>\n",
       "    <tr>\n",
       "      <th>25%</th>\n",
       "      <td>6.300000</td>\n",
       "      <td>0.210000</td>\n",
       "      <td>0.270000</td>\n",
       "      <td>1.700000</td>\n",
       "      <td>0.036000</td>\n",
       "      <td>23.000000</td>\n",
       "      <td>108.000000</td>\n",
       "      <td>0.991723</td>\n",
       "      <td>3.090000</td>\n",
       "      <td>0.410000</td>\n",
       "      <td>9.500000</td>\n",
       "      <td>5.000000</td>\n",
       "    </tr>\n",
       "    <tr>\n",
       "      <th>50%</th>\n",
       "      <td>6.800000</td>\n",
       "      <td>0.260000</td>\n",
       "      <td>0.320000</td>\n",
       "      <td>5.200000</td>\n",
       "      <td>0.043000</td>\n",
       "      <td>34.000000</td>\n",
       "      <td>134.000000</td>\n",
       "      <td>0.993740</td>\n",
       "      <td>3.180000</td>\n",
       "      <td>0.470000</td>\n",
       "      <td>10.400000</td>\n",
       "      <td>6.000000</td>\n",
       "    </tr>\n",
       "    <tr>\n",
       "      <th>75%</th>\n",
       "      <td>7.300000</td>\n",
       "      <td>0.320000</td>\n",
       "      <td>0.390000</td>\n",
       "      <td>9.900000</td>\n",
       "      <td>0.050000</td>\n",
       "      <td>46.000000</td>\n",
       "      <td>167.000000</td>\n",
       "      <td>0.996100</td>\n",
       "      <td>3.280000</td>\n",
       "      <td>0.550000</td>\n",
       "      <td>11.400000</td>\n",
       "      <td>6.000000</td>\n",
       "    </tr>\n",
       "    <tr>\n",
       "      <th>max</th>\n",
       "      <td>14.200000</td>\n",
       "      <td>1.100000</td>\n",
       "      <td>1.660000</td>\n",
       "      <td>65.800000</td>\n",
       "      <td>0.346000</td>\n",
       "      <td>289.000000</td>\n",
       "      <td>440.000000</td>\n",
       "      <td>1.038980</td>\n",
       "      <td>3.820000</td>\n",
       "      <td>1.080000</td>\n",
       "      <td>14.200000</td>\n",
       "      <td>9.000000</td>\n",
       "    </tr>\n",
       "  </tbody>\n",
       "</table>\n",
       "</div>"
      ],
      "text/plain": [
       "       fixed acidity  volatile acidity  citric acid  residual sugar  \\\n",
       "count    4898.000000       4898.000000  4898.000000     4898.000000   \n",
       "mean        6.854788          0.278241     0.334192        6.391415   \n",
       "std         0.843868          0.100795     0.121020        5.072058   \n",
       "min         3.800000          0.080000     0.000000        0.600000   \n",
       "25%         6.300000          0.210000     0.270000        1.700000   \n",
       "50%         6.800000          0.260000     0.320000        5.200000   \n",
       "75%         7.300000          0.320000     0.390000        9.900000   \n",
       "max        14.200000          1.100000     1.660000       65.800000   \n",
       "\n",
       "         chlorides  free sulfur dioxide  total sulfur dioxide      density  \\\n",
       "count  4898.000000          4898.000000           4898.000000  4898.000000   \n",
       "mean      0.045772            35.308085            138.360657     0.994027   \n",
       "std       0.021848            17.007137             42.498065     0.002991   \n",
       "min       0.009000             2.000000              9.000000     0.987110   \n",
       "25%       0.036000            23.000000            108.000000     0.991723   \n",
       "50%       0.043000            34.000000            134.000000     0.993740   \n",
       "75%       0.050000            46.000000            167.000000     0.996100   \n",
       "max       0.346000           289.000000            440.000000     1.038980   \n",
       "\n",
       "                pH    sulphates      alcohol      quality  \n",
       "count  4898.000000  4898.000000  4898.000000  4898.000000  \n",
       "mean      3.188267     0.489847    10.514267     5.877909  \n",
       "std       0.151001     0.114126     1.230621     0.885639  \n",
       "min       2.720000     0.220000     8.000000     3.000000  \n",
       "25%       3.090000     0.410000     9.500000     5.000000  \n",
       "50%       3.180000     0.470000    10.400000     6.000000  \n",
       "75%       3.280000     0.550000    11.400000     6.000000  \n",
       "max       3.820000     1.080000    14.200000     9.000000  "
      ]
     },
     "execution_count": 3,
     "metadata": {},
     "output_type": "execute_result"
    }
   ],
   "source": [
    "print(\"Describe data:\")\n",
    "data.describe(include='all')"
   ]
  },
  {
   "cell_type": "code",
   "execution_count": 4,
   "metadata": {},
   "outputs": [
    {
     "name": "stdout",
     "output_type": "stream",
     "text": [
      "Median:\n"
     ]
    },
    {
     "data": {
      "text/plain": [
       "fixed acidity             6.80000\n",
       "volatile acidity          0.26000\n",
       "citric acid               0.32000\n",
       "residual sugar            5.20000\n",
       "chlorides                 0.04300\n",
       "free sulfur dioxide      34.00000\n",
       "total sulfur dioxide    134.00000\n",
       "density                   0.99374\n",
       "pH                        3.18000\n",
       "sulphates                 0.47000\n",
       "alcohol                  10.40000\n",
       "quality                   6.00000\n",
       "dtype: float64"
      ]
     },
     "execution_count": 4,
     "metadata": {},
     "output_type": "execute_result"
    }
   ],
   "source": [
    "print(\"Median:\")\n",
    "data.median()"
   ]
  },
  {
   "cell_type": "markdown",
   "metadata": {},
   "source": [
    "#### *Provera nedefinisanih vrednosti*\n",
    "Vrši se provera da li postoje atributi koji sadrže određene *missing* vrednosti (vrednosti koje fale). Pokazuje se da podaci ne sadrže nedefinisane vrednosti."
   ]
  },
  {
   "cell_type": "code",
   "execution_count": 5,
   "metadata": {},
   "outputs": [
    {
     "name": "stdout",
     "output_type": "stream",
     "text": [
      "fixed acidity           0\n",
      "volatile acidity        0\n",
      "citric acid             0\n",
      "residual sugar          0\n",
      "chlorides               0\n",
      "free sulfur dioxide     0\n",
      "total sulfur dioxide    0\n",
      "density                 0\n",
      "pH                      0\n",
      "sulphates               0\n",
      "alcohol                 0\n",
      "quality                 0\n",
      "dtype: int64\n",
      "Missing values?: False\n"
     ]
    }
   ],
   "source": [
    "def check_missing_vals(data):\n",
    "    missing_vals = data.isna().sum()\n",
    "    print(missing_vals)\n",
    "    return missing_vals.sum() != 0\n",
    "\n",
    "print(\"Missing values?:\", check_missing_vals(data))"
   ]
  },
  {
   "cell_type": "markdown",
   "metadata": {},
   "source": [
    "#### *Histogram quality atributa*\n",
    "Na sledećem grafiku prikazan je histogram atributa kvaliteta vina. Može se videti izrazit disbalans među klasama kvaliteta, pri čemu najveći broj vina ima ocenu u intervalu [5,7]."
   ]
  },
  {
   "cell_type": "code",
   "execution_count": 47,
   "metadata": {},
   "outputs": [
    {
     "data": {
      "image/png": "[encoded data removed]",
      "text/plain": [
       "<Figure size 288x288 with 1 Axes>"
      ]
     },
     "metadata": {
      "needs_background": "light"
     },
     "output_type": "display_data"
    }
   ],
   "source": [
    "def plot_histogram(data, data_column):\n",
    "    data[data_column].plot(kind='hist', figsize=(4, 4))\n",
    "    \n",
    "plot_histogram(data=data, data_column='quality')"
   ]
  },
  {
   "cell_type": "markdown",
   "metadata": {},
   "source": [
    "#### *Boxplot atributa*\n",
    "Sledeći grafik prikazuje boxplot dijagram za svaki od atributa. Može se uočiti veliki broj outlier-a u vrednostima atributa *volatile acidity*, *citric acid*, *chlorides*, *sulphates*, *pH* i *free sulfur dioxide*."
   ]
  },
  {
   "cell_type": "code",
   "execution_count": 7,
   "metadata": {},
   "outputs": [
    {
     "data": {
      "image/png": "[encoded data removed]",
      "text/plain": [
       "<Figure size 1080x720 with 12 Axes>"
      ]
     },
     "metadata": {
      "needs_background": "light"
     },
     "output_type": "display_data"
    }
   ],
   "source": [
    "def plot_boxplot(data):\n",
    "    data.drop('quality', axis=1).plot(kind='box', figsize=(15, 10), subplots=True, layout=(2, 6),\n",
    "                                      sharex=False, sharey=False,\n",
    "                                      title='Box Plot for each input variable')\n",
    "    plt.subplots_adjust(wspace=0.5)\n",
    "    \n",
    "plot_boxplot(data)"
   ]
  },
  {
   "cell_type": "markdown",
   "metadata": {},
   "source": [
    "#### *Raspodela vrednosti atributa po klasama*\n",
    "Može se vizualizovati raspodela vrednosti atributa po klasama. Može se primetiti da određenim atributima vrednosti ne variraju u odnosnu na klasu kvaliteta, te je možda moguće date atribute isključiti iz dalje analize."
   ]
  },
  {
   "cell_type": "code",
   "execution_count": 8,
   "metadata": {},
   "outputs": [
    {
     "data": {
      "image/png": "[encoded data removed]",
      "text/plain": [
       "<Figure size 1080x720 with 12 Axes>"
      ]
     },
     "metadata": {
      "needs_background": "light"
     },
     "output_type": "display_data"
    }
   ],
   "source": [
    "def plot_barplots(data):\n",
    "    num_rows = 3\n",
    "    num_cols = 4\n",
    "    fig, axs = plt.subplots(num_rows, num_cols, figsize=(15, 10))\n",
    "\n",
    "    for i in range(0, num_rows):\n",
    "        for j in range(0, num_cols):\n",
    "            index = j * num_rows + i\n",
    "            col_name = data.columns[index]\n",
    "            sns.barplot(x='quality', y=col_name, data=data, ax=axs[i][j])\n",
    "            \n",
    "    plt.subplots_adjust(wspace=.25)\n",
    "\n",
    "plot_barplots(data)"
   ]
  },
  {
   "cell_type": "markdown",
   "metadata": {},
   "source": [
    "#### *Matrica korelacije*\n",
    "Dijagram prikazuje matricu korelacije fičera. Takođe, se štampaju fičeri sortirani po koeficijentu korelacije u opadajućem poredku, u odnosu na zavisnu klasifikacionu promenljivu.\n",
    "Može se uočiti da atribut *alcohol* ima najveći stepen korelacije sa atributom *quality*. Takođe, mogu se uočiti međusobne korelacije između atributa (atribut *density* je visoko korelisan sa većim brojem atributa)."
   ]
  },
  {
   "cell_type": "code",
   "execution_count": 9,
   "metadata": {},
   "outputs": [
    {
     "data": {
      "image/png": "[encoded data removed]",
      "text/plain": [
       "<Figure size 720x432 with 2 Axes>"
      ]
     },
     "metadata": {
      "needs_background": "light"
     },
     "output_type": "display_data"
    },
    {
     "name": "stdout",
     "output_type": "stream",
     "text": [
      "Sorted correlation values: \n",
      " quality                 1.000000\n",
      "alcohol                 0.435575\n",
      "density                 0.307123\n",
      "chlorides               0.209934\n",
      "volatile acidity        0.194723\n",
      "total sulfur dioxide    0.174737\n",
      "fixed acidity           0.113663\n",
      "pH                      0.099427\n",
      "residual sugar          0.097577\n",
      "sulphates               0.053678\n",
      "citric acid             0.009209\n",
      "free sulfur dioxide     0.008158\n",
      "Name: quality, dtype: float64\n"
     ]
    }
   ],
   "source": [
    "def correlation_matrix(data):\n",
    "    corr = data.corr()\n",
    "    fig, ax = plt.subplots(figsize=(10, 6))\n",
    "    sns.heatmap(corr, xticklabels=corr.columns, yticklabels=corr.columns, annot=True, ax=ax)\n",
    "    plt.show()\n",
    "\n",
    "    corr = abs(corr['quality']).sort_values(ascending=False)\n",
    "    return corr\n",
    "\n",
    "corr = correlation_matrix(data)\n",
    "print(\"Sorted correlation values: \\n\", corr)"
   ]
  },
  {
   "cell_type": "markdown",
   "metadata": {},
   "source": [
    "### *Predefinisanje klasa*\n",
    "Kao što je prethodno pokazano klase kvaliteta su izuzetno nebalansirane, te je pokušano predefinisanje klasa kako bi se disbalans ublažio. Kvalitet vina podeljen je u 3 nove klase:\n",
    "- bad: [1, 4]\n",
    "- good: [5, 6]\n",
    "- excellent: [7, 10].\n",
    "\n",
    "Skup podataka je još uvek nebalansiran, ali je disbalans ublažen."
   ]
  },
  {
   "cell_type": "code",
   "execution_count": 10,
   "metadata": {},
   "outputs": [
    {
     "data": {
      "image/png": "[encoded data removed]",
      "text/plain": [
       "<Figure size 288x288 with 1 Axes>"
      ]
     },
     "metadata": {
      "needs_background": "light"
     },
     "output_type": "display_data"
    }
   ],
   "source": [
    "def redefine_classes(data):\n",
    "    bins = (0, 4, 6, 10)\n",
    "    labels = ['bad', 'good', 'excellent']\n",
    "    redef_data = data.copy(deep=True)\n",
    "    redef_data['quality'] = pd.cut(data['quality'], bins=bins, labels=labels)\n",
    "    return redef_data\n",
    "\n",
    "def plot_count(data, data_column):\n",
    "    plt.figure(figsize=(4, 4))\n",
    "    sns.countplot(x=data_column, data=data)\n",
    "\n",
    "plot_count(redefine_classes(data), 'quality')"
   ]
  },
  {
   "cell_type": "markdown",
   "metadata": {},
   "source": [
    "### ***Preprocesiranje podataka***\n",
    "Preprocesiranje podataka uključuje prethodno opisano predefinisanje klasa. Kako je sada atribut *quality* kategoričkog tipa, potrebno je izvršiti enkodiranje datih klasa u numerični tip. Ovo se postiže korišćenjem LabelEncode-era."
   ]
  },
  {
   "cell_type": "code",
   "execution_count": 11,
   "metadata": {},
   "outputs": [],
   "source": [
    "def encode_labels(data):\n",
    "    encode_quality = LabelEncoder()\n",
    "    data['quality'] = encode_quality.fit_transform(data['quality'])\n",
    "    return data"
   ]
  },
  {
   "cell_type": "markdown",
   "metadata": {},
   "source": [
    "Dalje, potrebno je podeliti dati skup podataka na nezavisne promenljive (atribute - x) i zavisnu promenljivu (*quality* - y). Poslednja kolona predstavlja zavisnu promenljivu, dok ostale kolone predstavljaju fičere."
   ]
  },
  {
   "cell_type": "code",
   "execution_count": 12,
   "metadata": {},
   "outputs": [],
   "source": [
    "def extract_data(data):\n",
    "    x = data.iloc[:, :-1].values\n",
    "    # dependent variable\n",
    "    y = data.iloc[:, -1].values\n",
    "    return x, y"
   ]
  },
  {
   "cell_type": "markdown",
   "metadata": {},
   "source": [
    "Nakon toga, vrši se podela skupa podataka na trening i test skupove, pri čemu je za trening skup uzeto 20% celokupnog skupa."
   ]
  },
  {
   "cell_type": "code",
   "execution_count": 13,
   "metadata": {},
   "outputs": [],
   "source": [
    "def split_dataset(x, y):\n",
    "    x_train, x_test, y_train, y_test = train_test_split(x, y, test_size=0.2, random_state=42)\n",
    "    return x_train, x_test, y_train, y_test"
   ]
  },
  {
   "cell_type": "markdown",
   "metadata": {},
   "source": [
    "Finalno, vrši se skaliranje vrednosti korišćenjem StandardScaler-a. Skaliranje se vrši zasebno na trening i test skupovima podataka, s obzirom da je potrebno tretirani test skup podataka kao podatke koji nisu prethodno \"viđeni\"."
   ]
  },
  {
   "cell_type": "code",
   "execution_count": 14,
   "metadata": {},
   "outputs": [],
   "source": [
    "def scale_features(x_train, x_test):\n",
    "    scaler = StandardScaler()\n",
    "    x_train = scaler.fit_transform(x_train)\n",
    "    x_test = scaler.fit_transform(x_test)\n",
    "    return x_train, x_test"
   ]
  },
  {
   "cell_type": "markdown",
   "metadata": {},
   "source": [
    "Celokupno preprocesiranje:"
   ]
  },
  {
   "cell_type": "code",
   "execution_count": 49,
   "metadata": {},
   "outputs": [],
   "source": [
    "data = redefine_classes(data)\n",
    "data = encode_labels(data)\n",
    "\n",
    "x, y = extract_data(data)\n",
    "x_train, x_test, y_train, y_test = split_dataset(x, y)\n",
    "\n",
    "x_train_s, x_test_s = scale_features(x_train, x_test)"
   ]
  },
  {
   "cell_type": "code",
   "execution_count": 50,
   "metadata": {},
   "outputs": [
    {
     "data": {
      "text/html": [
       "<div>\n",
       "<style scoped>\n",
       "    .dataframe tbody tr th:only-of-type {\n",
       "        vertical-align: middle;\n",
       "    }\n",
       "\n",
       "    .dataframe tbody tr th {\n",
       "        vertical-align: top;\n",
       "    }\n",
       "\n",
       "    .dataframe thead th {\n",
       "        text-align: right;\n",
       "    }\n",
       "</style>\n",
       "<table border=\"1\" class=\"dataframe\">\n",
       "  <thead>\n",
       "    <tr style=\"text-align: right;\">\n",
       "      <th></th>\n",
       "      <th>0</th>\n",
       "      <th>1</th>\n",
       "      <th>2</th>\n",
       "      <th>3</th>\n",
       "      <th>4</th>\n",
       "      <th>5</th>\n",
       "      <th>6</th>\n",
       "      <th>7</th>\n",
       "      <th>8</th>\n",
       "      <th>9</th>\n",
       "      <th>10</th>\n",
       "      <th>quality</th>\n",
       "    </tr>\n",
       "  </thead>\n",
       "  <tbody>\n",
       "    <tr>\n",
       "      <th>0</th>\n",
       "      <td>0.515119</td>\n",
       "      <td>-1.076233</td>\n",
       "      <td>0.227731</td>\n",
       "      <td>0.340419</td>\n",
       "      <td>-0.813688</td>\n",
       "      <td>0.534065</td>\n",
       "      <td>-0.641932</td>\n",
       "      <td>-0.447041</td>\n",
       "      <td>-0.328261</td>\n",
       "      <td>-0.702445</td>\n",
       "      <td>1.540371</td>\n",
       "      <td>2</td>\n",
       "    </tr>\n",
       "    <tr>\n",
       "      <th>1</th>\n",
       "      <td>-0.669188</td>\n",
       "      <td>-0.288777</td>\n",
       "      <td>0.895832</td>\n",
       "      <td>1.002071</td>\n",
       "      <td>-0.217212</td>\n",
       "      <td>0.773947</td>\n",
       "      <td>1.355106</td>\n",
       "      <td>0.903370</td>\n",
       "      <td>-0.061886</td>\n",
       "      <td>0.266074</td>\n",
       "      <td>-0.821712</td>\n",
       "      <td>2</td>\n",
       "    </tr>\n",
       "  </tbody>\n",
       "</table>\n",
       "</div>"
      ],
      "text/plain": [
       "          0         1         2         3         4         5         6  \\\n",
       "0  0.515119 -1.076233  0.227731  0.340419 -0.813688  0.534065 -0.641932   \n",
       "1 -0.669188 -0.288777  0.895832  1.002071 -0.217212  0.773947  1.355106   \n",
       "\n",
       "          7         8         9        10  quality  \n",
       "0 -0.447041 -0.328261 -0.702445  1.540371        2  \n",
       "1  0.903370 -0.061886  0.266074 -0.821712        2  "
      ]
     },
     "execution_count": 50,
     "metadata": {},
     "output_type": "execute_result"
    }
   ],
   "source": [
    "df_train = pd.DataFrame(x_train_s)\n",
    "df_train['quality'] = y_train\n",
    "df_train.head(2)"
   ]
  },
  {
   "cell_type": "markdown",
   "metadata": {},
   "source": [
    "### ***Klasifikatori***"
   ]
  },
  {
   "cell_type": "markdown",
   "metadata": {},
   "source": [
    "U nastavku su date pomoćne funkcije koje se koriste pri evaluaciji svakog modela/klasifikatora, određivanje matrice konfuzije i skora unakrsne validacije. Celokupna evaluacija modela sastoji se od: skora unakrsne validacije, preciznosti modela, izveštaja klasifikacije i matrice konfuzije."
   ]
  },
  {
   "cell_type": "code",
   "execution_count": 17,
   "metadata": {},
   "outputs": [],
   "source": [
    "def confusion_matrix(y_test, y_pred, plot=False):\n",
    "    conf_matrix = metrics.confusion_matrix(y_test, y_pred)\n",
    "    \n",
    "    if plot:\n",
    "        df_conf = pd.DataFrame(conf_matrix, index=class_names, columns=class_names)\n",
    "        sns.heatmap(df_conf, annot=True, fmt='g')\n",
    "        plt.title(\"Confusion matrix:\")\n",
    "        plt.xlabel(\"False\")\n",
    "        plt.ylabel(\"True\")\n",
    "    else:\n",
    "        print(\"Confusion matrix:\\n\", conf_matrix)\n",
    "        \n",
    "\n",
    "def cross_val_eval(estimator, x_train, y_train):\n",
    "    cv_eval = cross_val_score(estimator=estimator, X=x_train, y=y_train, cv=5, scoring=\"accuracy\")\n",
    "    print(\"Cross validation - Accuracy:\\n\", cv_eval.mean())"
   ]
  },
  {
   "cell_type": "code",
   "execution_count": 18,
   "metadata": {},
   "outputs": [],
   "source": [
    "# function for evaluating a model\n",
    "def evaluate_model(estimator, x_train, y_train, y_test, y_pred, plot_conf=False):\n",
    "    cross_val_eval(estimator, x_train, y_train)\n",
    "    print(\"Accuracy:\\n\", metrics.accuracy_score(y_test, y_pred))\n",
    "    print(\"Report:\\n\", metrics.classification_report(y_test, y_pred))\n",
    "    confusion_matrix(y_test, y_pred, plot_conf)"
   ]
  },
  {
   "cell_type": "code",
   "execution_count": 19,
   "metadata": {},
   "outputs": [],
   "source": [
    "# names of quality classes\n",
    "class_names = [0, 1, 2]"
   ]
  },
  {
   "cell_type": "markdown",
   "metadata": {},
   "source": [
    "Dalje, data je metoda kojom se vrši dabir najboljih hiperparametara klasifikatora korišćenjem GridSearchCV objekta."
   ]
  },
  {
   "cell_type": "code",
   "execution_count": 20,
   "metadata": {},
   "outputs": [],
   "source": [
    "# metod used to search for best hiperparameters for a given classifier\n",
    "def grid_search(classifier, param_dict,\n",
    "               x_train, y_train):\n",
    "    gs = GridSearchCV(estimator=classifier, param_grid=param_dict, scoring=\"accuracy\",\n",
    "                          refit=True, cv=5, verbose=True, n_jobs=-1)\n",
    "    gs.fit(x_train, y_train)\n",
    "\n",
    "    print(\"Best estimator:\\n\", gs.best_params_)\n",
    "    print(\"Best score: \", gs.best_score_)\n",
    "\n",
    "    return gs.best_estimator_"
   ]
  },
  {
   "cell_type": "markdown",
   "metadata": {},
   "source": [
    "Funkcija kojom se pokreće svaki klasifikator i štampa evaluacija datog modela."
   ]
  },
  {
   "cell_type": "code",
   "execution_count": 21,
   "metadata": {},
   "outputs": [],
   "source": [
    "def run_clf(clf, param_dict,\n",
    "            x_train, x_test, y_train, y_test, plot_conf=False,\n",
    "            is_grid_search=False):\n",
    "    \n",
    "    if is_grid_search:\n",
    "        clf = grid_search(clf, param_dict,\n",
    "                         x_train, y_train)\n",
    "    else:\n",
    "        # Train the algorithm\n",
    "        clf.fit(x_train, y_train)\n",
    "    \n",
    "    # predict\n",
    "    y_pred = clf.predict(x_test)\n",
    "    #\n",
    "\n",
    "    # evaluate\n",
    "    evaluate_model(clf, x_train, y_train, y_test, y_pred, plot_conf)"
   ]
  },
  {
   "cell_type": "markdown",
   "metadata": {},
   "source": [
    "#### *k-NN*\n",
    "Prvi razmatrani klasifikator je k-NN. Mogući parametri klasifikacija korišćeni u okviru GridSearch-a dati su u okviru dictionary-a. Klasifikator ne daje loše rezultate kada je u pitanju 2. klasa, međutim daje izuzetno loše rezultate za 0. i 1. klasu."
   ]
  },
  {
   "cell_type": "code",
   "execution_count": 22,
   "metadata": {},
   "outputs": [
    {
     "name": "stdout",
     "output_type": "stream",
     "text": [
      "Fitting 5 folds for each of 20 candidates, totalling 100 fits\n"
     ]
    },
    {
     "name": "stderr",
     "output_type": "stream",
     "text": [
      "[Parallel(n_jobs=-1)]: Using backend LokyBackend with 4 concurrent workers.\n",
      "[Parallel(n_jobs=-1)]: Done  42 tasks      | elapsed:    2.8s\n",
      "[Parallel(n_jobs=-1)]: Done 100 out of 100 | elapsed:    5.2s finished\n"
     ]
    },
    {
     "name": "stdout",
     "output_type": "stream",
     "text": [
      "Best estimator:\n",
      " {'metric': 'manhattan', 'n_neighbors': 19, 'weights': 'distance'}\n",
      "Best score:  0.830524930278625\n",
      "Cross validation - Accuracy:\n",
      " 0.830524930278625\n",
      "Accuracy:\n",
      " 0.8316326530612245\n",
      "Report:\n",
      "               precision    recall  f1-score   support\n",
      "\n",
      "           0       1.00      0.03      0.06        30\n",
      "           1       0.77      0.56      0.65       227\n",
      "           2       0.84      0.95      0.89       723\n",
      "\n",
      "    accuracy                           0.83       980\n",
      "   macro avg       0.87      0.51      0.54       980\n",
      "weighted avg       0.83      0.83      0.81       980\n",
      "\n",
      "Confusion matrix:\n",
      " [[  1   1  28]\n",
      " [  0 127 100]\n",
      " [  0  36 687]]\n"
     ]
    }
   ],
   "source": [
    "# knn classifier\n",
    "clf_knn = KNeighborsClassifier()\n",
    "# grid search params\n",
    "param_dict_knn = [{'n_neighbors': [3, 5, 11, 19, 23],\n",
    "               'metric': ['euclidean', 'manhattan'],\n",
    "               'weights': ['uniform', 'distance']}]\n",
    "\n",
    "run_clf(clf_knn, param_dict_knn, x_train_s, x_test_s, y_train, y_test, is_grid_search=True)"
   ]
  },
  {
   "cell_type": "markdown",
   "metadata": {},
   "source": [
    "#### *Support Vector Machine - SVM*\n",
    "Dalji razmatrani klasifikator je SVM. Rezultati SVM klasifikatora čine se gorim od k-NN."
   ]
  },
  {
   "cell_type": "code",
   "execution_count": 23,
   "metadata": {},
   "outputs": [
    {
     "name": "stdout",
     "output_type": "stream",
     "text": [
      "Fitting 5 folds for each of 8 candidates, totalling 40 fits\n"
     ]
    },
    {
     "name": "stderr",
     "output_type": "stream",
     "text": [
      "[Parallel(n_jobs=-1)]: Using backend LokyBackend with 4 concurrent workers.\n",
      "[Parallel(n_jobs=-1)]: Done  40 out of  40 | elapsed:    8.1s finished\n"
     ]
    },
    {
     "name": "stdout",
     "output_type": "stream",
     "text": [
      "Best estimator:\n",
      " {'C': 1000, 'gamma': 0.001, 'kernel': 'rbf'}\n",
      "Best score:  0.7812654755388746\n",
      "Cross validation - Accuracy:\n",
      " 0.7812654755388746\n",
      "Accuracy:\n",
      " 0.7765306122448979\n",
      "Report:\n",
      "               precision    recall  f1-score   support\n",
      "\n",
      "           0       0.50      0.03      0.06        30\n",
      "           1       0.70      0.29      0.41       227\n",
      "           2       0.79      0.96      0.86       723\n",
      "\n",
      "    accuracy                           0.78       980\n",
      "   macro avg       0.66      0.43      0.45       980\n",
      "weighted avg       0.76      0.78      0.73       980\n",
      "\n",
      "Confusion matrix:\n",
      " [[  1   0  29]\n",
      " [  0  66 161]\n",
      " [  1  28 694]]\n"
     ]
    }
   ],
   "source": [
    "# classifier\n",
    "clf_svm = svm.SVC()\n",
    "param_dict_svm = [{'kernel': ['rbf'],\n",
    "               'gamma': [1e-3, 1e-4],\n",
    "               'C': [1, 10, 100, 1000]}]\n",
    "# run classifier\n",
    "run_clf(clf_svm, param_dict_svm, x_train_s, x_test_s, y_train, y_test, is_grid_search=True)"
   ]
  },
  {
   "cell_type": "markdown",
   "metadata": {},
   "source": [
    "#### *Random Forest*\n",
    "Random Forest klasifikator pati od istog problema klasifikacije klasa sa manjim brojem instanci kao i prethodno razmatrani klasifikatori, ali se pokazuje kao trenutno najuspešniji."
   ]
  },
  {
   "cell_type": "code",
   "execution_count": 24,
   "metadata": {},
   "outputs": [
    {
     "name": "stdout",
     "output_type": "stream",
     "text": [
      "Fitting 5 folds for each of 120 candidates, totalling 600 fits\n"
     ]
    },
    {
     "name": "stderr",
     "output_type": "stream",
     "text": [
      "[Parallel(n_jobs=-1)]: Using backend LokyBackend with 4 concurrent workers.\n",
      "[Parallel(n_jobs=-1)]: Done  42 tasks      | elapsed:   16.3s\n",
      "[Parallel(n_jobs=-1)]: Done 192 tasks      | elapsed:  1.3min\n",
      "[Parallel(n_jobs=-1)]: Done 442 tasks      | elapsed:  3.1min\n",
      "[Parallel(n_jobs=-1)]: Done 600 out of 600 | elapsed:  4.4min finished\n"
     ]
    },
    {
     "name": "stdout",
     "output_type": "stream",
     "text": [
      "Best estimator:\n",
      " {'class_weight': 'balanced_subsample', 'criterion': 'entropy', 'min_samples_leaf': 2, 'n_estimators': 150}\n",
      "Best score:  0.8397099069512862\n",
      "Cross validation - Accuracy:\n",
      " 0.8363939062214925\n",
      "Accuracy:\n",
      " 0.8479591836734693\n",
      "Report:\n",
      "               precision    recall  f1-score   support\n",
      "\n",
      "           0       0.57      0.13      0.22        30\n",
      "           1       0.80      0.63      0.71       227\n",
      "           2       0.86      0.94      0.90       723\n",
      "\n",
      "    accuracy                           0.85       980\n",
      "   macro avg       0.74      0.57      0.61       980\n",
      "weighted avg       0.84      0.85      0.84       980\n",
      "\n",
      "Confusion matrix:\n",
      " [[  4   0  26]\n",
      " [  0 144  83]\n",
      " [  3  37 683]]\n"
     ]
    }
   ],
   "source": [
    "# random forest classifier\n",
    "clf_rf = RandomForestClassifier()\n",
    "# grid search params\n",
    "param_dict_rf = {\n",
    "    \"n_estimators\": [50, 100, 150, 200, 250],\n",
    "    \"min_samples_leaf\": range(1, 5),\n",
    "    \"criterion\": ['gini', 'entropy'],\n",
    "    \"class_weight\": [\"balanced\", None, \"balanced_subsample\"]\n",
    "}\n",
    "\n",
    "run_clf(clf_rf, param_dict_rf, x_train_s, x_test_s, y_train, y_test, is_grid_search=True)"
   ]
  },
  {
   "cell_type": "markdown",
   "metadata": {},
   "source": [
    "#### *Gradient boosting*\n",
    "Pokušano je poboljšavanje rezultata korišćenjem gradient boosting klasifikatora. Rezultati su relativno slični onima dobijenim korišćenjem Random Forest-a."
   ]
  },
  {
   "cell_type": "code",
   "execution_count": 25,
   "metadata": {},
   "outputs": [
    {
     "name": "stdout",
     "output_type": "stream",
     "text": [
      "Fitting 5 folds for each of 150 candidates, totalling 750 fits\n"
     ]
    },
    {
     "name": "stderr",
     "output_type": "stream",
     "text": [
      "[Parallel(n_jobs=-1)]: Using backend LokyBackend with 4 concurrent workers.\n",
      "[Parallel(n_jobs=-1)]: Done  42 tasks      | elapsed:   54.6s\n",
      "[Parallel(n_jobs=-1)]: Done 192 tasks      | elapsed:  4.8min\n",
      "[Parallel(n_jobs=-1)]: Done 442 tasks      | elapsed: 11.4min\n",
      "[Parallel(n_jobs=-1)]: Done 750 out of 750 | elapsed: 19.8min finished\n"
     ]
    },
    {
     "name": "stdout",
     "output_type": "stream",
     "text": [
      "Best estimator:\n",
      " {'criterion': 'friedman_mse', 'learning_rate': 0.3, 'max_depth': 5, 'n_estimators': 100}\n",
      "Best score:  0.8315437094377982\n",
      "Cross validation - Accuracy:\n",
      " 0.8289904084239058\n",
      "Accuracy:\n",
      " 0.8255102040816327\n",
      "Report:\n",
      "               precision    recall  f1-score   support\n",
      "\n",
      "           0       0.43      0.33      0.38        30\n",
      "           1       0.74      0.61      0.67       227\n",
      "           2       0.86      0.91      0.89       723\n",
      "\n",
      "    accuracy                           0.83       980\n",
      "   macro avg       0.68      0.62      0.64       980\n",
      "weighted avg       0.82      0.83      0.82       980\n",
      "\n",
      "Confusion matrix:\n",
      " [[ 10   0  20]\n",
      " [  0 139  88]\n",
      " [ 13  50 660]]\n"
     ]
    }
   ],
   "source": [
    "# classifier\n",
    "clf_gb = GradientBoostingClassifier()\n",
    "param_dict_gb = {\n",
    "    \"n_estimators\": [50, 100, 150, 200, 250],\n",
    "    \"criterion\": [\"friedman_mse\", \"mse\"],\n",
    "    \"learning_rate\": [0.1, 0.2, 0.3, 0.4, 0.5],\n",
    "    \"max_depth\": range(3, 6)\n",
    "}\n",
    "\n",
    "\n",
    "run_clf(clf_gb, param_dict_gb, x_train_s, x_test_s, y_train, y_test, is_grid_search=True)"
   ]
  },
  {
   "cell_type": "markdown",
   "metadata": {},
   "source": [
    "***Zaključak nakon testiranja gorenavedenih klasifikatora je da Random Forest klasifikator daje najbolje rezultate.***"
   ]
  },
  {
   "cell_type": "markdown",
   "metadata": {},
   "source": [
    "### ***Balansiranje podataka i izbacivanje outlier-a***\n",
    "Prethodno je pokazano da prikazani klasifikatori ne daju previše loše rezultate kada je u pitanju klasa sa velikim brojem instanci. Međutim, matrica konfuzije, kao i pojedinačni f1-score za svaku klasu pokazuju da se svi klasifikatori ponašaju relativno loše kada su u pitanju nulta i prva klasa. Kao što je prethodno pokazano klase kvaliteta vina nisu balansirane, te to može biti jedan od potencijalnih uzroka ovog problema. Pokušaj otklanjanja ovog problema uključuje izbacivanje outlier-a i pokušaj oversample-ovanja manjinskih klasa."
   ]
  },
  {
   "cell_type": "markdown",
   "metadata": {},
   "source": [
    "#### *Izbacivanje outlier-a*\n",
    "Smanjenje outlier-a svodi se na dve metode: smanjenje uticaja ekstemnih vrednosti (logaritmovanjem svih vrednosti datog fičera) i promena vrednosti outlier-a na gornju ili donju granicu datu IQR-om. "
   ]
  },
  {
   "cell_type": "code",
   "execution_count": 26,
   "metadata": {},
   "outputs": [],
   "source": [
    "# replace the outlier with the upper or lower bound \n",
    "# based on the IQR\n",
    "def replace_outliers_bound(feature):\n",
    "    q1, q3 = np.percentile(feature, [25, 75])\n",
    "    iqr = q3 - q1\n",
    "    lower_bound = q1 - (iqr * 1.5)\n",
    "    upper_bound = q3 + (iqr * 1.5)\n",
    "    new_feature = feature\n",
    "    new_feature = np.where(new_feature > upper_bound, upper_bound, new_feature)\n",
    "    new_feature = np.where(new_feature < lower_bound, lower_bound, new_feature)\n",
    "    return new_feature\n",
    "\n",
    "# replace all values of a feature with log(feature)\n",
    "def replace_outliers_log(feature):\n",
    "    return np.log(feature)"
   ]
  },
  {
   "cell_type": "markdown",
   "metadata": {},
   "source": [
    "Outlier-i fičera čije su vrednosti u intervalu [0, 1] zamenjuju se gornjom ili donjom granicom tog fičera, dok se ostalim outlier-ima smanjuje uticaj korišćenjem logaritma."
   ]
  },
  {
   "cell_type": "code",
   "execution_count": 27,
   "metadata": {},
   "outputs": [],
   "source": [
    "def handle_outliers(x):\n",
    "    all_indices = list(range(0, x.shape[1]))\n",
    "    new_x = np.copy(x)\n",
    "    \"\"\"\n",
    "        fixed acidity, sugar\n",
    "        free sul. dioxide, total sul. dioxide\n",
    "    \"\"\"\n",
    "   \n",
    "    log_indices = [0, 3, 5, 6]\n",
    "    for ind in log_indices:\n",
    "        new_feature = replace_outliers_log(new_x[:, ind])\n",
    "        new_x[:, ind] = new_feature\n",
    "\n",
    "    bound_indices = np.setdiff1d(all_indices, log_indices)\n",
    "    for ind in bound_indices:\n",
    "        new_feature = replace_outliers_bound(new_x[:, ind])\n",
    "        new_x[:, ind] = new_feature\n",
    "\n",
    "    return new_x"
   ]
  },
  {
   "cell_type": "markdown",
   "metadata": {},
   "source": [
    "Kao i prethodno, potrebno je zasebno pokrenuti funkciju za trening i test podatke. Smanjenje outlier-a se izvršava pre operacije skaliranja, tako da je potrebno skalirati novodobijene vrednosti. Iz opisa podataka može se videti da je broj uticaj outlier-a smanjen."
   ]
  },
  {
   "cell_type": "code",
   "execution_count": 28,
   "metadata": {},
   "outputs": [
    {
     "data": {
      "text/html": [
       "<div>\n",
       "<style scoped>\n",
       "    .dataframe tbody tr th:only-of-type {\n",
       "        vertical-align: middle;\n",
       "    }\n",
       "\n",
       "    .dataframe tbody tr th {\n",
       "        vertical-align: top;\n",
       "    }\n",
       "\n",
       "    .dataframe thead th {\n",
       "        text-align: right;\n",
       "    }\n",
       "</style>\n",
       "<table border=\"1\" class=\"dataframe\">\n",
       "  <thead>\n",
       "    <tr style=\"text-align: right;\">\n",
       "      <th></th>\n",
       "      <th>0</th>\n",
       "      <th>1</th>\n",
       "      <th>2</th>\n",
       "      <th>3</th>\n",
       "      <th>4</th>\n",
       "      <th>5</th>\n",
       "      <th>6</th>\n",
       "      <th>7</th>\n",
       "      <th>8</th>\n",
       "      <th>9</th>\n",
       "      <th>10</th>\n",
       "    </tr>\n",
       "  </thead>\n",
       "  <tbody>\n",
       "    <tr>\n",
       "      <th>count</th>\n",
       "      <td>3918.000000</td>\n",
       "      <td>3918.000000</td>\n",
       "      <td>3918.000000</td>\n",
       "      <td>3918.000000</td>\n",
       "      <td>3918.000000</td>\n",
       "      <td>3918.000000</td>\n",
       "      <td>3918.000000</td>\n",
       "      <td>3918.000000</td>\n",
       "      <td>3918.000000</td>\n",
       "      <td>3918.000000</td>\n",
       "      <td>3918.000000</td>\n",
       "    </tr>\n",
       "    <tr>\n",
       "      <th>mean</th>\n",
       "      <td>1.919022</td>\n",
       "      <td>0.275947</td>\n",
       "      <td>0.328335</td>\n",
       "      <td>1.487502</td>\n",
       "      <td>0.043529</td>\n",
       "      <td>3.427902</td>\n",
       "      <td>4.875782</td>\n",
       "      <td>0.994058</td>\n",
       "      <td>3.188102</td>\n",
       "      <td>0.487805</td>\n",
       "      <td>10.508840</td>\n",
       "    </tr>\n",
       "    <tr>\n",
       "      <th>std</th>\n",
       "      <td>0.121587</td>\n",
       "      <td>0.089625</td>\n",
       "      <td>0.099685</td>\n",
       "      <td>0.925590</td>\n",
       "      <td>0.011260</td>\n",
       "      <td>0.551048</td>\n",
       "      <td>0.335999</td>\n",
       "      <td>0.002922</td>\n",
       "      <td>0.146186</td>\n",
       "      <td>0.107423</td>\n",
       "      <td>1.227887</td>\n",
       "    </tr>\n",
       "    <tr>\n",
       "      <th>min</th>\n",
       "      <td>1.335001</td>\n",
       "      <td>0.080000</td>\n",
       "      <td>0.105000</td>\n",
       "      <td>-0.510826</td>\n",
       "      <td>0.015000</td>\n",
       "      <td>1.098612</td>\n",
       "      <td>2.302585</td>\n",
       "      <td>0.987110</td>\n",
       "      <td>2.805000</td>\n",
       "      <td>0.220000</td>\n",
       "      <td>8.000000</td>\n",
       "    </tr>\n",
       "    <tr>\n",
       "      <th>25%</th>\n",
       "      <td>1.840550</td>\n",
       "      <td>0.210000</td>\n",
       "      <td>0.270000</td>\n",
       "      <td>0.530628</td>\n",
       "      <td>0.036000</td>\n",
       "      <td>3.135494</td>\n",
       "      <td>4.682131</td>\n",
       "      <td>0.991740</td>\n",
       "      <td>3.090000</td>\n",
       "      <td>0.410000</td>\n",
       "      <td>9.500000</td>\n",
       "    </tr>\n",
       "    <tr>\n",
       "      <th>50%</th>\n",
       "      <td>1.916923</td>\n",
       "      <td>0.260000</td>\n",
       "      <td>0.320000</td>\n",
       "      <td>1.648659</td>\n",
       "      <td>0.043000</td>\n",
       "      <td>3.496508</td>\n",
       "      <td>4.897840</td>\n",
       "      <td>0.993800</td>\n",
       "      <td>3.180000</td>\n",
       "      <td>0.470000</td>\n",
       "      <td>10.400000</td>\n",
       "    </tr>\n",
       "    <tr>\n",
       "      <th>75%</th>\n",
       "      <td>1.987874</td>\n",
       "      <td>0.330000</td>\n",
       "      <td>0.380000</td>\n",
       "      <td>2.302585</td>\n",
       "      <td>0.050000</td>\n",
       "      <td>3.828641</td>\n",
       "      <td>5.117994</td>\n",
       "      <td>0.996200</td>\n",
       "      <td>3.280000</td>\n",
       "      <td>0.550000</td>\n",
       "      <td>11.400000</td>\n",
       "    </tr>\n",
       "    <tr>\n",
       "      <th>max</th>\n",
       "      <td>2.468100</td>\n",
       "      <td>0.510000</td>\n",
       "      <td>0.545000</td>\n",
       "      <td>4.186620</td>\n",
       "      <td>0.071000</td>\n",
       "      <td>4.987025</td>\n",
       "      <td>5.746203</td>\n",
       "      <td>1.002890</td>\n",
       "      <td>3.565000</td>\n",
       "      <td>0.760000</td>\n",
       "      <td>14.200000</td>\n",
       "    </tr>\n",
       "  </tbody>\n",
       "</table>\n",
       "</div>"
      ],
      "text/plain": [
       "                0            1            2            3            4   \\\n",
       "count  3918.000000  3918.000000  3918.000000  3918.000000  3918.000000   \n",
       "mean      1.919022     0.275947     0.328335     1.487502     0.043529   \n",
       "std       0.121587     0.089625     0.099685     0.925590     0.011260   \n",
       "min       1.335001     0.080000     0.105000    -0.510826     0.015000   \n",
       "25%       1.840550     0.210000     0.270000     0.530628     0.036000   \n",
       "50%       1.916923     0.260000     0.320000     1.648659     0.043000   \n",
       "75%       1.987874     0.330000     0.380000     2.302585     0.050000   \n",
       "max       2.468100     0.510000     0.545000     4.186620     0.071000   \n",
       "\n",
       "                5            6            7            8            9   \\\n",
       "count  3918.000000  3918.000000  3918.000000  3918.000000  3918.000000   \n",
       "mean      3.427902     4.875782     0.994058     3.188102     0.487805   \n",
       "std       0.551048     0.335999     0.002922     0.146186     0.107423   \n",
       "min       1.098612     2.302585     0.987110     2.805000     0.220000   \n",
       "25%       3.135494     4.682131     0.991740     3.090000     0.410000   \n",
       "50%       3.496508     4.897840     0.993800     3.180000     0.470000   \n",
       "75%       3.828641     5.117994     0.996200     3.280000     0.550000   \n",
       "max       4.987025     5.746203     1.002890     3.565000     0.760000   \n",
       "\n",
       "                10  \n",
       "count  3918.000000  \n",
       "mean     10.508840  \n",
       "std       1.227887  \n",
       "min       8.000000  \n",
       "25%       9.500000  \n",
       "50%      10.400000  \n",
       "75%      11.400000  \n",
       "max      14.200000  "
      ]
     },
     "execution_count": 28,
     "metadata": {},
     "output_type": "execute_result"
    }
   ],
   "source": [
    "# handle outliers in x_train and x_test\n",
    "x_train_out = handle_outliers(x_train)\n",
    "x_test_out = handle_outliers(x_test)\n",
    "\n",
    "df_train_outliers = pd.DataFrame(x_train_out)\n",
    "\n",
    "# preform scale again\n",
    "x_train_out, x_test_out = scale_features(x_train_out, x_test_out)\n",
    "\n",
    "df_train_outliers.describe()"
   ]
  },
  {
   "cell_type": "markdown",
   "metadata": {},
   "source": [
    "#### *Balansiranje podataka*\n",
    "Za metodu balansiranja klasa pokušano je korišćenje oversampling tehnike, odnosno SMOTE (Synthetic Minority Oversampling Technique). Nova raspodela klasa može se videti na dijagramu ispod."
   ]
  },
  {
   "cell_type": "code",
   "execution_count": 29,
   "metadata": {},
   "outputs": [],
   "source": [
    "def smote_data(x_train, y_train):\n",
    "    smote = SMOTE()\n",
    "    x_train, y_train = smote.fit_resample(x_train, y_train)\n",
    "    return x_train, y_train\n",
    "\n",
    "\"\"\"\n",
    "x_train_smt -> smote x_train_out\n",
    "y_train_smt -> smote y_train\n",
    "x_test_out -> remove outliers x_test\n",
    "y_test_out -> y_test renamed\n",
    "\"\"\"\n",
    "x_train_smt, y_train_smt = smote_data(x_train_out, y_train)\n",
    "y_test_out = y_test"
   ]
  },
  {
   "cell_type": "code",
   "execution_count": 30,
   "metadata": {},
   "outputs": [
    {
     "data": {
      "image/png": "[encoded data removed]",
      "text/plain": [
       "<Figure size 288x288 with 1 Axes>"
      ]
     },
     "metadata": {
      "needs_background": "light"
     },
     "output_type": "display_data"
    }
   ],
   "source": [
    "df_y_smt = pd.DataFrame(y_train_smt, columns=['quality'])\n",
    "plot_histogram(data=df_y_smt, data_column='quality')"
   ]
  },
  {
   "cell_type": "markdown",
   "metadata": {},
   "source": [
    "Kako se Random Forest klasifikator dosada pokazao kao najefikasniji, on će biti testiran sa balansiranim podacima. Ponašanje klasifikatora se poboljšalo za klase koje su prethodne bile u manjini, ali se za nijansu pogoršalo za dominantnu klasu. Odlučeno je da će se na dalje raditi sa balansiranim podacima."
   ]
  },
  {
   "cell_type": "code",
   "execution_count": 31,
   "metadata": {},
   "outputs": [
    {
     "name": "stdout",
     "output_type": "stream",
     "text": [
      "Fitting 5 folds for each of 120 candidates, totalling 600 fits\n"
     ]
    },
    {
     "name": "stderr",
     "output_type": "stream",
     "text": [
      "[Parallel(n_jobs=-1)]: Using backend LokyBackend with 4 concurrent workers.\n",
      "[Parallel(n_jobs=-1)]: Done  42 tasks      | elapsed:   47.7s\n",
      "[Parallel(n_jobs=-1)]: Done 192 tasks      | elapsed:  4.2min\n",
      "[Parallel(n_jobs=-1)]: Done 442 tasks      | elapsed:  9.2min\n",
      "[Parallel(n_jobs=-1)]: Done 600 out of 600 | elapsed: 13.3min finished\n"
     ]
    },
    {
     "name": "stdout",
     "output_type": "stream",
     "text": [
      "Best estimator:\n",
      " {'class_weight': 'balanced_subsample', 'criterion': 'gini', 'min_samples_leaf': 1, 'n_estimators': 250}\n",
      "Best score:  0.9290598997364204\n",
      "Cross validation - Accuracy:\n",
      " 0.9262176985890743\n",
      "Accuracy:\n",
      " 0.810204081632653\n",
      "Report:\n",
      "               precision    recall  f1-score   support\n",
      "\n",
      "           0       0.27      0.53      0.36        30\n",
      "           1       0.68      0.78      0.73       227\n",
      "           2       0.91      0.83      0.87       723\n",
      "\n",
      "    accuracy                           0.81       980\n",
      "   macro avg       0.62      0.71      0.65       980\n",
      "weighted avg       0.84      0.81      0.82       980\n",
      "\n",
      "Confusion matrix:\n",
      " [[ 16   0  14]\n",
      " [  4 177  46]\n",
      " [ 40  82 601]]\n"
     ]
    }
   ],
   "source": [
    "run_clf(clf_rf, param_dict_rf, x_train_smt, x_test_out, y_train_smt, y_test_out, is_grid_search=True)"
   ]
  },
  {
   "cell_type": "markdown",
   "metadata": {},
   "source": [
    "### ***Selekcija fičera***\n",
    "Smanjenje dimenzionalnosti pokušano je kao sledeća metoda u nadi poboljšanja datih modela. Za selekciju fičera korišćena su dva algoritma: Principal Component Analysis (PCA) i Recursive Feature Elimination (RFE).\n",
    "#### *PCA*"
   ]
  },
  {
   "cell_type": "code",
   "execution_count": 32,
   "metadata": {},
   "outputs": [],
   "source": [
    "# run pca with fixed number of features\n",
    "# and print variance\n",
    "def pca_selection(x_train, x_test, num_features):\n",
    "    pca = PCA(n_components=num_features, random_state=200, whiten=True)\n",
    "    pca.fit(x_train)\n",
    "\n",
    "    x_train = pca.transform(x_train)\n",
    "    x_test = pca.transform(x_test)\n",
    "\n",
    "    var_ratio = pca.explained_variance_ratio_*100\n",
    "    print(\"Variance ratio - PCA\\n\", var_ratio)\n",
    "    print(\"Total variance - PCA: \", np.sum(var_ratio))\n",
    "\n",
    "    return x_train, x_test, var_ratio\n",
    "\n",
    "def plot_pca(variance):\n",
    "    plt.plot(variance)\n",
    "    plt.xlabel('Number of components')\n",
    "    plt.ylabel(\"Variance\")"
   ]
  },
  {
   "cell_type": "markdown",
   "metadata": {},
   "source": [
    "Prvo će biti pokrenuta PCA selekcija sa svim fičerima, ne bi li se utvrdio odgovarajući broj principalnih komponenti. Može se zaključiti da zadržavanje 8-9 komponenti zadržava zadovoljavajuću količinu varijanse."
   ]
  },
  {
   "cell_type": "code",
   "execution_count": 33,
   "metadata": {},
   "outputs": [
    {
     "name": "stdout",
     "output_type": "stream",
     "text": [
      "Variance ratio - PCA\n",
      " [29.9438639  16.06116946 14.65300782  9.17917644  8.30791603  6.4014237\n",
      "  5.44794683  4.09748345  2.84289701  2.80278204  0.2623333 ]\n",
      "Total variance - PCA:  100.0\n"
     ]
    },
    {
     "data": {
      "image/png": "[encoded data removed]",
      "text/plain": [
       "<Figure size 432x288 with 1 Axes>"
      ]
     },
     "metadata": {
      "needs_background": "light"
     },
     "output_type": "display_data"
    }
   ],
   "source": [
    "x_train_pca, x_test_pca, var_ratio = pca_selection(x_train_smt, x_test_out, x_train_smt.shape[1])\n",
    "plot_pca(np.cumsum(var_ratio))"
   ]
  },
  {
   "cell_type": "code",
   "execution_count": 34,
   "metadata": {},
   "outputs": [
    {
     "name": "stdout",
     "output_type": "stream",
     "text": [
      "Variance ratio - PCA\n",
      " [29.9438639  16.06116946 14.65300782  9.17917644  8.30791603  6.4014237\n",
      "  5.44794683  4.09748345  2.84289701]\n",
      "Total variance - PCA:  96.93488465563533\n"
     ]
    }
   ],
   "source": [
    "x_train_pca, x_test_pca, var_ratio = pca_selection(x_train_smt, x_test_out, 9)\n",
    "\n",
    "\"\"\"\n",
    "rename\n",
    "y_test_pca\n",
    "y_train_pca\n",
    "\"\"\"\n",
    "\n",
    "y_test_pca = y_test_out\n",
    "y_train_pca = y_train_smt"
   ]
  },
  {
   "cell_type": "markdown",
   "metadata": {},
   "source": [
    "#### *k-NN - PCA*\n",
    "Pokazuje se da je korišćenje PCA i balansiranje klasa znatno poboljšalo k-NN klasifikator."
   ]
  },
  {
   "cell_type": "code",
   "execution_count": 36,
   "metadata": {},
   "outputs": [
    {
     "name": "stdout",
     "output_type": "stream",
     "text": [
      "Fitting 5 folds for each of 20 candidates, totalling 100 fits\n"
     ]
    },
    {
     "name": "stderr",
     "output_type": "stream",
     "text": [
      "[Parallel(n_jobs=-1)]: Using backend LokyBackend with 4 concurrent workers.\n",
      "[Parallel(n_jobs=-1)]: Done  42 tasks      | elapsed:    3.3s\n",
      "[Parallel(n_jobs=-1)]: Done 100 out of 100 | elapsed:   10.1s finished\n"
     ]
    },
    {
     "name": "stdout",
     "output_type": "stream",
     "text": [
      "Best estimator:\n",
      " {'metric': 'euclidean', 'n_neighbors': 3, 'weights': 'distance'}\n",
      "Best score:  0.9049578143573311\n",
      "Cross validation - Accuracy:\n",
      " 0.9049578143573311\n",
      "Accuracy:\n",
      " 0.7510204081632653\n",
      "Report:\n",
      "               precision    recall  f1-score   support\n",
      "\n",
      "           0       0.20      0.60      0.31        30\n",
      "           1       0.60      0.79      0.68       227\n",
      "           2       0.91      0.75      0.82       723\n",
      "\n",
      "    accuracy                           0.75       980\n",
      "   macro avg       0.57      0.71      0.60       980\n",
      "weighted avg       0.82      0.75      0.77       980\n",
      "\n"
     ]
    },
    {
     "data": {
      "image/png": "[encoded data removed]",
      "text/plain": [
       "<Figure size 432x288 with 2 Axes>"
      ]
     },
     "metadata": {
      "needs_background": "light"
     },
     "output_type": "display_data"
    }
   ],
   "source": [
    "run_clf(clf_knn, param_dict_knn, x_train_pca, x_test_pca, y_train_pca, y_test_pca,\n",
    "        is_grid_search=True, plot_conf=True)"
   ]
  },
  {
   "cell_type": "markdown",
   "metadata": {},
   "source": [
    "#### *SVM - PCA*\n",
    "Kombinacija PCA i balansiranja klasa je negativno uticala na klasifikciju dominantne klase SVM klasifikatora, dok su se rezultati u druge 2 klase zanemarljivo popravili."
   ]
  },
  {
   "cell_type": "code",
   "execution_count": 37,
   "metadata": {},
   "outputs": [
    {
     "name": "stdout",
     "output_type": "stream",
     "text": [
      "Fitting 5 folds for each of 8 candidates, totalling 40 fits\n"
     ]
    },
    {
     "name": "stderr",
     "output_type": "stream",
     "text": [
      "[Parallel(n_jobs=-1)]: Using backend LokyBackend with 4 concurrent workers.\n",
      "[Parallel(n_jobs=-1)]: Done  40 out of  40 | elapsed:   36.8s finished\n"
     ]
    },
    {
     "name": "stdout",
     "output_type": "stream",
     "text": [
      "Best estimator:\n",
      " {'C': 1000, 'gamma': 0.001, 'kernel': 'rbf'}\n",
      "Best score:  0.7087325572381002\n",
      "Cross validation - Accuracy:\n",
      " 0.7087325572381002\n",
      "Accuracy:\n",
      " 0.6081632653061224\n",
      "Report:\n",
      "               precision    recall  f1-score   support\n",
      "\n",
      "           0       0.12      0.63      0.20        30\n",
      "           1       0.48      0.74      0.58       227\n",
      "           2       0.87      0.57      0.69       723\n",
      "\n",
      "    accuracy                           0.61       980\n",
      "   macro avg       0.49      0.65      0.49       980\n",
      "weighted avg       0.76      0.61      0.65       980\n",
      "\n"
     ]
    },
    {
     "data": {
      "image/png": "[encoded data removed]",
      "text/plain": [
       "<Figure size 432x288 with 2 Axes>"
      ]
     },
     "metadata": {
      "needs_background": "light"
     },
     "output_type": "display_data"
    }
   ],
   "source": [
    "# run classifier\n",
    "run_clf(clf_svm, param_dict_svm, x_train_pca, x_test_pca, y_train_pca, y_test_pca, \n",
    "        is_grid_search=True, plot_conf=True)"
   ]
  },
  {
   "cell_type": "markdown",
   "metadata": {},
   "source": [
    "#### *Random forest - RFE*\n",
    "Random forest svakom fičeru dodeljuje koeficijent važnosti, te se svi fičeri mogu sortirati po važnosti."
   ]
  },
  {
   "cell_type": "code",
   "execution_count": 38,
   "metadata": {},
   "outputs": [],
   "source": [
    "def plot_feature_importance(fitted_model, data):\n",
    "    \"\"\"\n",
    "    plot feature importance\n",
    "    \"\"\"\n",
    "    feature_importance = fitted_model.feature_importances_\n",
    "    feature_importance = pd.Series(feature_importance, index=data.drop('quality', axis=1).columns)\\\n",
    "        .sort_values(ascending=True)\n",
    "\n",
    "    plt.figure()\n",
    "    plt.title(\"Feature importance:\")\n",
    "    plt.ylabel(\"Features\")\n",
    "    plt.xlabel(\"Importance score\")\n",
    "    feature_importance.plot(kind='barh', figsize=(4, 3))"
   ]
  },
  {
   "cell_type": "code",
   "execution_count": 40,
   "metadata": {},
   "outputs": [],
   "source": [
    "clf_rf_best = RandomForestClassifier(class_weight='balanced_subsample', criterion='gini', \n",
    "                                min_samples_leaf=1, n_estimators=250)"
   ]
  },
  {
   "cell_type": "code",
   "execution_count": 41,
   "metadata": {},
   "outputs": [
    {
     "data": {
      "image/png": "[encoded data removed]",
      "text/plain": [
       "<Figure size 288x216 with 1 Axes>"
      ]
     },
     "metadata": {
      "needs_background": "light"
     },
     "output_type": "display_data"
    }
   ],
   "source": [
    "rf_model = clf_rf_best.fit(x_train_smt, y_train_smt)\n",
    "plot_feature_importance(rf_model, data)"
   ]
  },
  {
   "cell_type": "markdown",
   "metadata": {},
   "source": [
    "Umesto PCA algoritma, u kombinaciji sa Random Forestom iskorišćeno je rekurzivna eliminacija fičera (RFE)."
   ]
  },
  {
   "cell_type": "code",
   "execution_count": 42,
   "metadata": {},
   "outputs": [],
   "source": [
    "def recursive_f_elimination(estimator, x_train, y_train, x_test):\n",
    "    rfecv = RFECV(estimator=estimator, step=1, cv=5, scoring='accuracy')\n",
    "    rfecv.fit(x_train, y_train)\n",
    "    x_train = rfecv.transform(x_train)\n",
    "    x_test = rfecv.transform(x_test)\n",
    "    print(\"No. of best features: \", rfecv.n_features_)\n",
    "    print(\"Selected features: \", rfecv.support_)\n",
    "    return x_train, x_test\n",
    "\n",
    "def run_rfe_clf(clf, x_train, y_train, x_test, y_test):\n",
    "    # recursive elimination feature selection\n",
    "    x_train_rfe, x_test_rfe = recursive_f_elimination(estimator=clf, x_train=x_train, \n",
    "                                                     y_train=y_train, x_test=x_test)\n",
    "    #\n",
    "\n",
    "    # fit and predict\n",
    "    model = clf.fit(x_train_rfe, y_train)\n",
    "    y_pred = clf.predict(x_test_rfe)\n",
    "    \n",
    "    # evaluate\n",
    "    evaluate_model(clf, x_train_rfe, y_train, y_test, y_pred, True)"
   ]
  },
  {
   "cell_type": "markdown",
   "metadata": {},
   "source": [
    "Ispostavlja se da se najbolji rezultati postižu kada su svi fičeri uključeni u kreiranje modela. "
   ]
  },
  {
   "cell_type": "code",
   "execution_count": 43,
   "metadata": {},
   "outputs": [
    {
     "name": "stdout",
     "output_type": "stream",
     "text": [
      "No. of best features:  11\n",
      "Selected features:  [ True  True  True  True  True  True  True  True  True  True  True]\n",
      "Cross validation - Accuracy:\n",
      " 0.9264451651248127\n",
      "Accuracy:\n",
      " 0.8122448979591836\n",
      "Report:\n",
      "               precision    recall  f1-score   support\n",
      "\n",
      "           0       0.26      0.47      0.34        30\n",
      "           1       0.69      0.77      0.72       227\n",
      "           2       0.90      0.84      0.87       723\n",
      "\n",
      "    accuracy                           0.81       980\n",
      "   macro avg       0.62      0.69      0.64       980\n",
      "weighted avg       0.83      0.81      0.82       980\n",
      "\n"
     ]
    },
    {
     "data": {
      "image/png": "[encoded data removed]",
      "text/plain": [
       "<Figure size 432x288 with 2 Axes>"
      ]
     },
     "metadata": {
      "needs_background": "light"
     },
     "output_type": "display_data"
    }
   ],
   "source": [
    "run_rfe_clf(clf_rf_best, x_train_smt, y_train_smt, x_test_out, y_test_out)"
   ]
  },
  {
   "cell_type": "markdown",
   "metadata": {},
   "source": [
    "#### *Gradient boosting - RFE*\n",
    "Potrebno je prvo pokrenuti gradient boosting algoritam sa balansiranim podacima ne bi li se odredila najbolja kombinacija hiperparametara koja će se koristiti za rekurzivnu eliminaciju fičera. Ispostavlja se da je balansiranje prouzrokovalo znatno lošije rezultate klasifikatora, te će se koristi pre pokušaja balansiranja."
   ]
  },
  {
   "cell_type": "code",
   "execution_count": 44,
   "metadata": {},
   "outputs": [
    {
     "name": "stdout",
     "output_type": "stream",
     "text": [
      "Fitting 5 folds for each of 150 candidates, totalling 750 fits\n"
     ]
    },
    {
     "name": "stderr",
     "output_type": "stream",
     "text": [
      "[Parallel(n_jobs=-1)]: Using backend LokyBackend with 4 concurrent workers.\n",
      "[Parallel(n_jobs=-1)]: Done  42 tasks      | elapsed:  2.9min\n",
      "[Parallel(n_jobs=-1)]: Done 192 tasks      | elapsed: 15.2min\n",
      "[Parallel(n_jobs=-1)]: Done 442 tasks      | elapsed: 36.5min\n",
      "[Parallel(n_jobs=-1)]: Done 750 out of 750 | elapsed: 64.3min finished\n"
     ]
    },
    {
     "name": "stdout",
     "output_type": "stream",
     "text": [
      "Best estimator:\n",
      " {'criterion': 'mse', 'learning_rate': 0.4, 'max_depth': 5, 'n_estimators': 250}\n",
      "Best score:  0.9186113623443072\n",
      "Cross validation - Accuracy:\n",
      " 0.9167929867176599\n",
      "Accuracy:\n",
      " 0.5571428571428572\n",
      "Report:\n",
      "               precision    recall  f1-score   support\n",
      "\n",
      "           0       0.10      0.60      0.17        30\n",
      "           1       0.45      0.94      0.61       227\n",
      "           2       0.94      0.44      0.60       723\n",
      "\n",
      "    accuracy                           0.56       980\n",
      "   macro avg       0.50      0.66      0.46       980\n",
      "weighted avg       0.80      0.56      0.59       980\n",
      "\n",
      "Confusion matrix:\n",
      " [[ 18   3   9]\n",
      " [  4 213  10]\n",
      " [155 253 315]]\n"
     ]
    }
   ],
   "source": [
    "run_clf(clf_gb, param_dict_gb, x_train_smt, x_test_out, y_train_smt, y_test_out, is_grid_search=True)"
   ]
  },
  {
   "cell_type": "code",
   "execution_count": 48,
   "metadata": {},
   "outputs": [],
   "source": [
    "clf_gb_best = GradientBoostingClassifier(criterion='friedman_mse', learning_rate=0.3,\n",
    "                                         max_depth=5, n_estimators=100)"
   ]
  },
  {
   "cell_type": "code",
   "execution_count": 51,
   "metadata": {},
   "outputs": [
    {
     "data": {
      "image/png": "[encoded data removed]",
      "text/plain": [
       "<Figure size 288x216 with 1 Axes>"
      ]
     },
     "metadata": {
      "needs_background": "light"
     },
     "output_type": "display_data"
    }
   ],
   "source": [
    "gb_model = clf_gb_best.fit(x_train_s, y_train)\n",
    "plot_feature_importance(gb_model, data)"
   ]
  },
  {
   "cell_type": "markdown",
   "metadata": {},
   "source": [
    "Gradient boosting je takođe zaključio da se najbolji rezultati dobijaju korišćenjem svih fičera."
   ]
  },
  {
   "cell_type": "code",
   "execution_count": 53,
   "metadata": {},
   "outputs": [
    {
     "name": "stdout",
     "output_type": "stream",
     "text": [
      "No. of best features:  11\n",
      "Selected features:  [ True  True  True  True  True  True  True  True  True  True  True]\n",
      "Cross validation - Accuracy:\n",
      " 0.8300124455912634\n",
      "Accuracy:\n",
      " 0.823469387755102\n",
      "Report:\n",
      "               precision    recall  f1-score   support\n",
      "\n",
      "           0       0.48      0.37      0.42        30\n",
      "           1       0.73      0.59      0.65       227\n",
      "           2       0.85      0.92      0.88       723\n",
      "\n",
      "    accuracy                           0.82       980\n",
      "   macro avg       0.69      0.62      0.65       980\n",
      "weighted avg       0.82      0.82      0.82       980\n",
      "\n"
     ]
    },
    {
     "data": {
      "image/png": "[encoded data removed]",
      "text/plain": [
       "<Figure size 432x288 with 2 Axes>"
      ]
     },
     "metadata": {
      "needs_background": "light"
     },
     "output_type": "display_data"
    }
   ],
   "source": [
    "run_rfe_clf(clf_gb_best, x_train_s, y_train, x_test_s, y_test)"
   ]
  },
  {
   "cell_type": "markdown",
   "metadata": {},
   "source": [
    "***Random Forest klasifikator se i dalje pokazuje kao najuspešniji.***"
   ]
  },
  {
   "cell_type": "markdown",
   "metadata": {},
   "source": [
    "### ***Zaključak***\n",
    "U ovom notebook-u demonstrirano je korišćenje većeg broja klasifikatora ne bi li se odredio kvalitet belog vina na osnovu određenih fizičko-hemijskih karakteristika. Glavni problemi predstavljali su nebalansiranost klasa, kao i velika količina outlier-a. Nekoliko različitih tehnika je pokušano u nadi da se dati problemi prevaziđu, odnosno da se klasifikatori poboljšaju. Ispostavilo se da najbolje rezultate daje Random Forest klasifikator, pri čemu i Gradient Boosting klasifikator daje relativno slične rezultate, međutim, i pored različitih predstavljanih tehnika nije su se postigli zadovoljavajući rezultati pri klasifikaciji manjinskih klasa."
   ]
  }
 ],
 "metadata": {
  "kernelspec": {
   "display_name": "Python 3",
   "language": "python",
   "name": "python3"
  },
  "language_info": {
   "codemirror_mode": {
    "name": "ipython",
    "version": 3
   },
   "file_extension": ".py",
   "mimetype": "text/x-python",
   "name": "python",
   "nbconvert_exporter": "python",
   "pygments_lexer": "ipython3",
   "version": "3.8.5"
  }
 },
 "nbformat": 4,
 "nbformat_minor": 4
}
